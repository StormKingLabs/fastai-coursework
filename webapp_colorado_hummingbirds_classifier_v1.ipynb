{
 "cells": [
  {
   "cell_type": "markdown",
   "metadata": {},
   "source": [
    "# Identifying Hummingbird Species of the Rocky Mountains\n",
    "\n",
    "This web app serves as a simple example for how to deploy a trained FastAI model via Voila. This app has been adapted from Course 2 of FastAI v4.\n",
    "\n",
    "For this project, let's focus on hummingbirds since they're [extraordinary little creatures](https://nationalzoo.si.edu/migratory-birds/hummingbirds). Here, our goal is to classify any specicies of hummingbird that's resident in Colorado.  It was interesting to see how quickly we can use transfer learning on some (relatively noisy) Bing Image results to produce a decent working classifier.\n",
    "\n",
    "Audubon [observes the following](https://rockies.audubon.org/blog/habitat-hero/backyard-hummingbirds\n",
    ") about hummingbird species in the Rockies:\n",
    "\n",
    "> In Wyoming and Colorado there are four main species that you will see. Broad-tailed (Selasphorus platycercus) and Rufous (Selasphorous rufus) Hummingbirds are the most common you will probably see. Less common species are the Calliope (Selasphorus calliope) and Black-chinned (Archilochus alexandri) Hummingbirds.\n",
    "\n",
    "|  |  |  |  |\n",
    "|---|---|---|---|\n",
    "| ![]( https://nas-national-prod.s3.amazonaws.com/styles/bird_illustration/s3/2735_Sibl_9780307957900_art_r1.jpg?itok=m1TzaJDi ) | ![]( https://nas-national-prod.s3.amazonaws.com/styles/bird_illustration/s3/2747_Sibl_9780307957900_art_r1.jpg?itok=LXCr5qsa ) | ![]( https://nas-national-prod.s3.amazonaws.com/styles/bird_illustration/s3/2760_Sibl_9780307957900_art_r1.jpg?itok=pnOj0j9q ) | ![]( https://nas-national-prod.s3.amazonaws.com/styles/bird_illustration/s3/2733_Sibl_9780307957900_art_r1.jpg?itok=kM3iVfa8 ) |\n"
   ]
  },
  {
   "cell_type": "markdown",
   "metadata": {},
   "source": [
    "### Set up FastAI"
   ]
  },
  {
   "cell_type": "code",
   "execution_count": 1,
   "metadata": {},
   "outputs": [],
   "source": [
    "!pip install -Uqq fastbook voila\n",
    "import fastbook\n",
    "fastbook.setup_book()"
   ]
  },
  {
   "cell_type": "code",
   "execution_count": 2,
   "metadata": {},
   "outputs": [],
   "source": [
    "from fastbook import *\n",
    "from fastai.vision.widgets import *"
   ]
  },
  {
   "cell_type": "markdown",
   "metadata": {},
   "source": [
    "### Prepare the pre-trained model (stored in the .pkl file)"
   ]
  },
  {
   "cell_type": "code",
   "execution_count": 3,
   "metadata": {},
   "outputs": [],
   "source": [
    "path = Path()\n",
    "learn_inf = load_learner(path/'colorado_hummingbirds_classifier_v1.pkl')"
   ]
  },
  {
   "cell_type": "code",
   "execution_count": 4,
   "metadata": {},
   "outputs": [
    {
     "data": {
      "text/plain": [
       "['black-chinned', 'broad-tailed', 'calliope', 'rufous']"
      ]
     },
     "execution_count": 4,
     "metadata": {},
     "output_type": "execute_result"
    }
   ],
   "source": [
    "learn_inf.dls.vocab"
   ]
  },
  {
   "cell_type": "markdown",
   "metadata": {},
   "source": [
    "### Prepare the web app components"
   ]
  },
  {
   "cell_type": "code",
   "execution_count": 5,
   "metadata": {
    "scrolled": true
   },
   "outputs": [],
   "source": [
    "out_pl = widgets.Output()\n",
    "lbl_pred = widgets.Label()\n",
    "btn_run = widgets.Button(description='Classify')"
   ]
  },
  {
   "cell_type": "code",
   "execution_count": 6,
   "metadata": {},
   "outputs": [],
   "source": [
    "def on_click_classify(change):\n",
    "    img = PILImage.create(btn_upload.data[-1])\n",
    "    out_pl.clear_output()\n",
    "    with out_pl: display(img.to_thumb(128,128))\n",
    "    pred,pred_idx,probs = learn_inf.predict(img)\n",
    "    lbl_pred.value = f'Prediction: {pred}; Probability: {probs[pred_idx]:.04f}'\n",
    "\n",
    "btn_run.on_click(on_click_classify)"
   ]
  },
  {
   "cell_type": "code",
   "execution_count": 7,
   "metadata": {},
   "outputs": [],
   "source": [
    "btn_upload = widgets.FileUpload()"
   ]
  },
  {
   "cell_type": "code",
   "execution_count": 8,
   "metadata": {},
   "outputs": [
    {
     "data": {
      "application/vnd.jupyter.widget-view+json": {
       "model_id": "8a08ad3127864bb49a8722f6f6a0a623",
       "version_major": 2,
       "version_minor": 0
      },
      "text/plain": [
       "VBox(children=(Label(value='Upload your Colorado hummingbird!'), FileUpload(value={}, description='Upload'), B…"
      ]
     },
     "metadata": {},
     "output_type": "display_data"
    }
   ],
   "source": [
    "VBox([widgets.Label('Upload your Colorado hummingbird!'), \n",
    "      btn_upload, btn_run, out_pl, lbl_pred])"
   ]
  },
  {
   "cell_type": "code",
   "execution_count": null,
   "metadata": {},
   "outputs": [],
   "source": []
  }
 ],
 "metadata": {
  "jupytext": {
   "split_at_heading": true
  },
  "kernelspec": {
   "display_name": "Python 3",
   "language": "python",
   "name": "python3"
  },
  "language_info": {
   "codemirror_mode": {
    "name": "ipython",
    "version": 3
   },
   "file_extension": ".py",
   "mimetype": "text/x-python",
   "name": "python",
   "nbconvert_exporter": "python",
   "pygments_lexer": "ipython3",
   "version": "3.8.3"
  }
 },
 "nbformat": 4,
 "nbformat_minor": 4
}
